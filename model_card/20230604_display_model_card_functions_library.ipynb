{
 "cells": [
  {
   "cell_type": "code",
   "execution_count": 33,
   "id": "2a91412d",
   "metadata": {},
   "outputs": [
    {
     "name": "stdout",
     "output_type": "stream",
     "text": [
      "[NbConvertApp] Converting notebook 20230604_display_model_card_functions_library.ipynb to python\n",
      "[NbConvertApp] Writing 13475 bytes to 20230604_display_model_card_functions_library.py\n"
     ]
    }
   ],
   "source": [
    "# this line converts this notebook, to a python file\n",
    "# named 'display_model_card_functions_library'\n",
    "# remember to delete this line from the resulting file\n",
    "\n",
    "!jupyter nbconvert 20230604_display_model_card_functions_library.ipynb  --to python"
   ]
  },
  {
   "cell_type": "code",
   "execution_count": 3,
   "id": "b243d3b0",
   "metadata": {},
   "outputs": [],
   "source": [
    "\n",
    "# this requires that we set the relative path, because this file\n",
    "# will be accessed from other directories\n",
    "\n",
    "\n",
    "pre = \"/r/node/kristin/\"\n",
    "\n",
    "\n",
    "# also need to remove any system commands -- they start with '!'\n",
    "\n",
    "# will be accessed by\n",
    "# http://10.158.221.197:2020/edit/2022s2s/seq2seq/CVM_postPredictions.py#\n"
   ]
  },
  {
   "cell_type": "code",
   "execution_count": 4,
   "id": "a72b8f4e",
   "metadata": {},
   "outputs": [],
   "source": [
    "import numpy as np"
   ]
  },
  {
   "cell_type": "code",
   "execution_count": 5,
   "id": "585d48ff",
   "metadata": {},
   "outputs": [],
   "source": [
    "#!ls /r/node/kristin/display_model_card/"
   ]
  },
  {
   "cell_type": "code",
   "execution_count": 6,
   "id": "52941bf2",
   "metadata": {},
   "outputs": [
    {
     "name": "stdout",
     "output_type": "stream",
     "text": [
      "sys.path.append(/r/node/kristin/display_model_card... )\n"
     ]
    }
   ],
   "source": [
    "import sys\n",
    "print ( \"sys.path.append(\"+pre + \"display_model_card... )\" )\n",
    "sys.path.append(pre + \"display_model_card\")\n",
    "import urllib.parse\n",
    "import json\n",
    "import csv\n",
    "import re\n",
    "import os\n",
    "import shutil\n",
    "import json\n",
    "#from path import path\n",
    "import requests\n",
    "import datetime\n",
    "import re\n",
    "import dateutil.tz\n",
    "import numpy as np\n",
    "#try: model_card\n",
    "#except: model_card = {}\n",
    "#from bottled_water import *\n",
    "#from broccoli_fresh import *\n",
    "\n"
   ]
  },
  {
   "cell_type": "code",
   "execution_count": 7,
   "id": "3bffd282",
   "metadata": {},
   "outputs": [],
   "source": [
    "network = 'bottled_water'\n",
    "#model_card[network]  \n",
    "network = 'broccoli_fresh'\n",
    "#model_card[network]\n"
   ]
  },
  {
   "cell_type": "code",
   "execution_count": 8,
   "id": "e9ba0052",
   "metadata": {},
   "outputs": [],
   "source": [
    "#20230430 jesse\n",
    "def read_model_cards(pre):\n",
    "    try:\n",
    "        read_model_cardJSON = open(pre + \"display_model_card/model_cards.json\").read()\n",
    "        model_cardsJSON = json.loads( read_model_cardJSON )\n",
    "        meta= model_cardsJSON[\"meta\"]\n",
    "    except:\n",
    "        print (\"model_cards.json does not exist.\")\n",
    "        meta = {}\n",
    "    return meta"
   ]
  },
  {
   "cell_type": "code",
   "execution_count": 9,
   "id": "4cc88844",
   "metadata": {},
   "outputs": [],
   "source": [
    "#20230506 jesse\n",
    "def read_single_card(pre , network):\n",
    "    try:\n",
    "        read_single_cardJSON = open(pre + \"display_model_card/\"+str(network)+\".json\").read()\n",
    "        single_model_cardJSON = json.loads( read_single_cardJSON )\n",
    "        meta= single_model_cardJSON[\"meta\"]\n",
    "    except:\n",
    "        print (str(network)+\".json does not exist.\")\n",
    "        meta = {}\n",
    "    return meta"
   ]
  },
  {
   "cell_type": "code",
   "execution_count": 10,
   "id": "d7cbfc54",
   "metadata": {},
   "outputs": [],
   "source": [
    "read_model_cardJSON = open(pre + \"display_model_card/model_cards.json\").read()\n",
    "model_cardsJSON = json.loads( read_model_cardJSON )\n",
    "many_model_cards= model_cardsJSON[\"meta\"]"
   ]
  },
  {
   "cell_type": "code",
   "execution_count": 34,
   "id": "82561c52",
   "metadata": {},
   "outputs": [],
   "source": [
    "network = \"breakfastcereal_without_milk\""
   ]
  },
  {
   "cell_type": "code",
   "execution_count": 36,
   "id": "70b2b1cb",
   "metadata": {},
   "outputs": [],
   "source": [
    "card = read_single_card(pre , network)"
   ]
  },
  {
   "cell_type": "code",
   "execution_count": 42,
   "id": "09a61011",
   "metadata": {},
   "outputs": [
    {
     "data": {
      "text/plain": [
       "'Breakfast cereal (sugar coated cornflakes)'"
      ]
     },
     "execution_count": 42,
     "metadata": {},
     "output_type": "execute_result"
    }
   ],
   "source": [
    "card['breakfastcereal_without_milk']['object_name']"
   ]
  },
  {
   "cell_type": "code",
   "execution_count": 13,
   "id": "c73c44c2",
   "metadata": {},
   "outputs": [
    {
     "data": {
      "text/plain": [
       "'breakfastcereal_without_milk_CVM'"
      ]
     },
     "execution_count": 13,
     "metadata": {},
     "output_type": "execute_result"
    }
   ],
   "source": [
    "object_description_file_path = many_model_cards[network]['object_description_file_path']\n",
    "CVM_model_name = many_model_cards[network]['CVM_model_name']\n",
    "CVM_model_name"
   ]
  },
  {
   "cell_type": "code",
   "execution_count": 70,
   "id": "c10a3a97",
   "metadata": {},
   "outputs": [
    {
     "data": {
      "text/plain": [
       "[0.46, 0.11, 1.03, 0.03, 0.09, 0.0, 0.44]"
      ]
     },
     "execution_count": 70,
     "metadata": {},
     "output_type": "execute_result"
    }
   ],
   "source": [
    "parsedCVNnumbers= \"0.46_a 0.11 1.03_a 0.03 0.09_a 0.00_a 0.44_a\"#\\n0.46_b 0.00_b\\n1.03_b 0.00459\\\\n0.09_b 0.00_c\\\\n0.44_b 0.04\\\\n\"\n",
    " \n",
    "import re \n",
    "parsedCVNnumbers = re.sub(\"[^0-9^. ]\", \"\", parsedCVNnumbers)\n",
    "parsedCVNfloats = [float(x) for x in parsedCVNnumbers.split(\" \") ] \n",
    "parsedCVNfloats"
   ]
  },
  {
   "cell_type": "code",
   "execution_count": 59,
   "id": "596e6726",
   "metadata": {},
   "outputs": [],
   "source": [
    "# show some of the files in the CCaLC folder\n",
    "#!ls CCaLC_V3 | tail"
   ]
  },
  {
   "cell_type": "code",
   "execution_count": 18,
   "id": "19e9d63d",
   "metadata": {},
   "outputs": [],
   "source": [
    "\n",
    "#20230506jesse\n",
    "def assemble_single_model_card(pre , network , object_description_file_path):\n",
    "    model_card = {} #read_model_cards()\n",
    "    #try: model_card\n",
    "    #except: model_card = {}\n",
    "    #try: model_card[network]\n",
    "    #except: \n",
    "    \n",
    "    myfilepath = pre + object_description_file_path\n",
    "    cvn = []\n",
    "\n",
    "\n",
    "    line_number = 2     \n",
    "    with open(myfilepath, 'r') as f:\n",
    "        mycsv = csv.reader(f)\n",
    "        mycsv = list(mycsv)\n",
    "        object_name = mycsv[2][1]\n",
    "        object_description = mycsv[0][13]\n",
    "\n",
    "        # Processing_stage\tlca_Stage\tName\tComments\n",
    "        processing_stage = mycsv[0:14] #,[3]\n",
    "        #? Processing_stage = mycsv[14][0:13]\n",
    "\n",
    "        lca_stage = mycsv[2][16]\n",
    "        name = mycsv[2][17]\n",
    "        comments = mycsv[2][18]\n",
    "        long_object_description = mycsv[2][13]\n",
    "\n",
    "\n",
    "#decode the f.u\n",
    "\n",
    "    find_functional_unit = long_object_description.split(\". \")[0]\n",
    "    #print (\"find_functional_unit\"+find_functional_unit)\n",
    "    #find_functional_unit = find_functional_unit.split(\"functional unit\")[1]\n",
    "    #find_functional_unit =  re.split('(\\d.\\d+)', find_functional_unit)\n",
    "\n",
    "\n",
    "    data_segment_name=\"Processing_stage\"\n",
    "    processing_stage_labels = []\n",
    "    print (data_segment_name+\" has a cvn[0:\" + str(len(processing_stage)) + \"]\" )\n",
    "\n",
    "    for i in range(0, len(processing_stage)):\n",
    "        processing_stage_labels.append( processing_stage[i][17] )\n",
    "        #print ( Processing_stage[i][17] )\n",
    "\n",
    "    processing_stage_labels = processing_stage_labels\n",
    "\n",
    "    #meta\n",
    "    loss = 0\n",
    "    pre = \"\"\n",
    "    filename = CVM_model_name\n",
    "    outPathFile = filename +\".json\"\n",
    "    alignments2d = []\n",
    "\n",
    "    model_card = {}\n",
    "    model_card[network] = {}\n",
    "    \"\"\"\n",
    "    model_card[network][\"CCaLC_name\"] = CCaLC_name\n",
    "    model_card[network][\"trained_image_name\"] = trained_image_name\n",
    "    model_card[network][\"test_image_name\"] = test_image_name\n",
    "    model_card[network][\"icon_image\"] = icon_image\n",
    "    model_card[network][\"object_description_EN_file_path\"] = object_description_EN_file_path\n",
    "    model_card[network][\"object_description_file_path\"] = object_description_EN_file_path\n",
    "    model_card[network][\"CVM_graph\"] = CVM_graph\n",
    "    model_card[network][\"CVM_graph_image\"] = CVM_graph_image\n",
    "    model_card[network][\"CVM_symbol\"] = CVM_symbol\n",
    "    model_card[network][\"CVM_CO2\"] = CVM_CO2\n",
    "    model_card[network][\"CVM_model\"] = CVM_model\n",
    "    model_card[network][\"CVM_model_name\"] = CVM_model_name\n",
    "    model_card[network][\"image_classifier\"] = image_classifier\n",
    "    \"\"\"\n",
    "    model_card[network][\"processing_stage_labels\"] = processing_stage_labels\n",
    "    model_card[network][\"lca_Stage\"] = lca_stage\n",
    "    model_card[network][\"comments\"] = comments\n",
    "    model_card[network][\"object_name\"] = object_name\n",
    "    model_card[network][\"long_object_description\"] = long_object_description\n",
    "    model_card[network][\"find_functional_unit\"] = find_functional_unit\n",
    "                        \n",
    "    return model_card\n",
    "\n",
    "\n"
   ]
  },
  {
   "cell_type": "code",
   "execution_count": 19,
   "id": "346c6b9d",
   "metadata": {},
   "outputs": [
    {
     "name": "stdout",
     "output_type": "stream",
     "text": [
      "Processing_stage has a cvn[0:14]\n"
     ]
    },
    {
     "data": {
      "text/plain": [
       "{'breakfastcereal_without_milk': {'processing_stage_labels': ['Name',\n",
       "   'Breakfast cereal production',\n",
       "   'Stage 2',\n",
       "   'Stage 3',\n",
       "   'Stage 4',\n",
       "   'Stage 5',\n",
       "   'Stage 6',\n",
       "   'Stage 7',\n",
       "   'Stage 8',\n",
       "   'Stage 9',\n",
       "   'Stage 10',\n",
       "   'Storage',\n",
       "   'Use',\n",
       "   'Waste'],\n",
       "  'lca_Stage': '4',\n",
       "  'comments': '',\n",
       "  'object_name': 'Breakfast cereal (sugar coated cornflakes)',\n",
       "  'long_object_description': \"Functional unit is family size pack of breakfast cereal (1 kg) manufactured by Kellogg's. The system includes the life cycle stages from cradle to grave; the consumption of milk at the use stage is not considered. \",\n",
       "  'find_functional_unit': \"Functional unit is family size pack of breakfast cereal (1 kg) manufactured by Kellogg's\"}}"
      ]
     },
     "execution_count": 19,
     "metadata": {},
     "output_type": "execute_result"
    }
   ],
   "source": [
    "assemble_single_model_card(pre , \"breakfastcereal_without_milk\" , object_description_file_path)"
   ]
  },
  {
   "cell_type": "code",
   "execution_count": 24,
   "id": "a12a1e4c",
   "metadata": {},
   "outputs": [
    {
     "data": {
      "text/plain": [
       "'\\nmyfilepath = pre + object_description_file_path\\ncvn = []\\n\\n\\nline_number = 2     \\nwith open(myfilepath, \\'r\\') as f:\\n    mycsv = csv.reader(f)\\n    mycsv = list(mycsv)\\n    object_name = mycsv[2][1]\\n    object_description = mycsv[0][13]\\n    \\n    # Processing_stage\\tlca_Stage\\tName\\tComments\\n    Processing_stage = mycsv[0:14] #,[3]\\n    #? Processing_stage = mycsv[14][0:13]\\n    \\n    lca_Stage = mycsv[2][16]\\n    Name = mycsv[2][17]\\n    Comments = mycsv[2][18]\\n    Long_object_description = mycsv[2][13]\\n\\n\\n#decode the f.u\\n\\nfind_functional_unit = Long_object_description.split(\". \")[0]\\nfind_functional_unit = find_functional_unit.split(\"functional unit\")[1]\\nfind_functional_unit =  re.split(\\'(\\\\d.\\\\d+)\\', find_functional_unit)\\n\\n\\ndata_segment_name=\"Processing_stage\"\\nProcessing_stage_labels = []\\nprint (data_segment_name+\" has a cvn[0:\" + str(len(Processing_stage)) + \"]\" )\\n\\nfor i in range(0, len(Processing_stage)):\\n    Processing_stage_labels.append( Processing_stage[i][17] )\\n    #print ( Processing_stage[i][17] )\\n\\nprocessing_stage_labels = Processing_stage_labels\\n\\n#meta\\nloss = 0\\npre = \"\"\\nfilename = CVM_model_name\\noutPathFile = filename +\".json\"\\nalignments2d = []\\n\\n\\ntheJSON = {}\\ntheJSON[\"x\"] = [] \\ntheJSON[\"y\"] = []\\ntheJSON[\"x1\"] = []\\ntheJSON[\"y1\"] = []\\ntheJSON[\"meta\"] = []\\ntheJSON[\"nodes\"] = []\\ntheJSON[\"links\"] = []\\n\\n\\ntheJSON[\"meta\"].append({\\n\"Processing_stage_labels\": Processing_stage_labels,\\n\"lca_Stage\": lca_Stage,\\n\"Comments\": Comments,\\n\"object_name\": object_name,\\n\"Long_object_description\" : Long_object_description,\\n\"find_functional_unit\" : find_functional_unit\\n#\"isAcceptState\": (false)\\n})\\n\\n    model_card[network] = {}\\n    model_card[network][\"CCaLC_name\"] = CCaLC_name\\n    model_card[network][\"trained_image_name\"] = trained_image_name\\n    model_card[network][\"test_image_name\"] = test_image_name\\n    model_card[network][\"icon_image\"] = icon_image\\n    model_card[network][\"object_description_EN_file_path\"] = object_description_EN_file_path\\n    model_card[network][\"object_description_file_path\"] = object_description_EN_file_path\\n    model_card[network][\"CVM_graph\"] = CVM_graph\\n    model_card[network][\"CVM_graph_image\"] = CVM_graph_image\\n    model_card[network][\"CVM_symbol\"] = CVM_symbol\\n    model_card[network][\"CVM_CO2\"] = CVM_CO2\\n    model_card[network][\"CVM_model\"] = CVM_model\\n    model_card[network][\"CVM_model_name\"] = CVM_model_name\\n    model_card[network][\"image_classifier\"] = image_classifier\\n    model_card[network][\"processing_stage_labels\": processing_stage_labels\\n    model_card[network][\"lca_Stage\"] = lca_stage\\n    model_card[network][\"comments\"] = comments\\n    model_card[network][\"object_name\"] = object_name\\n    model_card[network][\"long_object_description\"] = long_object_description\\n    model_card[network][\"find_functional_unit\"] = find_functional_unit\\n                        \\n    return model_card\\n\\n'"
      ]
     },
     "execution_count": 24,
     "metadata": {},
     "output_type": "execute_result"
    }
   ],
   "source": [
    "\"\"\"\n",
    "myfilepath = pre + object_description_file_path\n",
    "cvn = []\n",
    "\n",
    "\n",
    "line_number = 2     \n",
    "with open(myfilepath, 'r') as f:\n",
    "    mycsv = csv.reader(f)\n",
    "    mycsv = list(mycsv)\n",
    "    object_name = mycsv[2][1]\n",
    "    object_description = mycsv[0][13]\n",
    "    \n",
    "    # Processing_stage\tlca_Stage\tName\tComments\n",
    "    Processing_stage = mycsv[0:14] #,[3]\n",
    "    #? Processing_stage = mycsv[14][0:13]\n",
    "    \n",
    "    lca_Stage = mycsv[2][16]\n",
    "    Name = mycsv[2][17]\n",
    "    Comments = mycsv[2][18]\n",
    "    Long_object_description = mycsv[2][13]\n",
    "\n",
    "\n",
    "#decode the f.u\n",
    "\n",
    "find_functional_unit = Long_object_description.split(\". \")[0]\n",
    "find_functional_unit = find_functional_unit.split(\"functional unit\")[1]\n",
    "find_functional_unit =  re.split('(\\d.\\d+)', find_functional_unit)\n",
    "\n",
    "\n",
    "data_segment_name=\"Processing_stage\"\n",
    "Processing_stage_labels = []\n",
    "print (data_segment_name+\" has a cvn[0:\" + str(len(Processing_stage)) + \"]\" )\n",
    "\n",
    "for i in range(0, len(Processing_stage)):\n",
    "    Processing_stage_labels.append( Processing_stage[i][17] )\n",
    "    #print ( Processing_stage[i][17] )\n",
    "\n",
    "processing_stage_labels = Processing_stage_labels\n",
    "\n",
    "#meta\n",
    "loss = 0\n",
    "pre = \"\"\n",
    "filename = CVM_model_name\n",
    "outPathFile = filename +\".json\"\n",
    "alignments2d = []\n",
    "\n",
    "\n",
    "theJSON = {}\n",
    "theJSON[\"x\"] = [] \n",
    "theJSON[\"y\"] = []\n",
    "theJSON[\"x1\"] = []\n",
    "theJSON[\"y1\"] = []\n",
    "theJSON[\"meta\"] = []\n",
    "theJSON[\"nodes\"] = []\n",
    "theJSON[\"links\"] = []\n",
    "\n",
    "\n",
    "theJSON[\"meta\"].append({\n",
    "\"Processing_stage_labels\": Processing_stage_labels,\n",
    "\"lca_Stage\": lca_Stage,\n",
    "\"Comments\": Comments,\n",
    "\"object_name\": object_name,\n",
    "\"Long_object_description\" : Long_object_description,\n",
    "\"find_functional_unit\" : find_functional_unit\n",
    "#\"isAcceptState\": (false)\n",
    "})\n",
    "\n",
    "    model_card[network] = {}\n",
    "    model_card[network][\"CCaLC_name\"] = CCaLC_name\n",
    "    model_card[network][\"trained_image_name\"] = trained_image_name\n",
    "    model_card[network][\"test_image_name\"] = test_image_name\n",
    "    model_card[network][\"icon_image\"] = icon_image\n",
    "    model_card[network][\"object_description_EN_file_path\"] = object_description_EN_file_path\n",
    "    model_card[network][\"object_description_file_path\"] = object_description_EN_file_path\n",
    "    model_card[network][\"CVM_graph\"] = CVM_graph\n",
    "    model_card[network][\"CVM_graph_image\"] = CVM_graph_image\n",
    "    model_card[network][\"CVM_symbol\"] = CVM_symbol\n",
    "    model_card[network][\"CVM_CO2\"] = CVM_CO2\n",
    "    model_card[network][\"CVM_model\"] = CVM_model\n",
    "    model_card[network][\"CVM_model_name\"] = CVM_model_name\n",
    "    model_card[network][\"image_classifier\"] = image_classifier\n",
    "    model_card[network][\"processing_stage_labels\": processing_stage_labels\n",
    "    model_card[network][\"lca_Stage\"] = lca_stage\n",
    "    model_card[network][\"comments\"] = comments\n",
    "    model_card[network][\"object_name\"] = object_name\n",
    "    model_card[network][\"long_object_description\"] = long_object_description\n",
    "    model_card[network][\"find_functional_unit\"] = find_functional_unit\n",
    "                        \n",
    "    return model_card\n",
    "\n",
    "\"\"\""
   ]
  },
  {
   "cell_type": "code",
   "execution_count": 26,
   "id": "c53a6a5d",
   "metadata": {},
   "outputs": [
    {
     "data": {
      "text/plain": [
       "'\\nprint (\"Processing_stage_labels: \"+ str(processing_stage_labels) )\\nprint (\"lca_Stage: \"+object_name)\\nprint (\"Comments: \"+object_name)\\nprint (\"object_name: \"+object_name)\\nprint (\"Long_object_description: \"+Long_object_description)\\nprint (\"find_functional_unit: \"+ str(find_functional_unit)) \\n\\n#writeAlignmentsFileJSON( alignments2d , outPathFile , filename , pre, loss, meta)\\nprint(\"cvn: \"+ str(cvn))\\n'"
      ]
     },
     "execution_count": 26,
     "metadata": {},
     "output_type": "execute_result"
    }
   ],
   "source": [
    "\"\"\"\n",
    "print (\"Processing_stage_labels: \"+ str(processing_stage_labels) )\n",
    "print (\"lca_Stage: \"+object_name)\n",
    "print (\"Comments: \"+object_name)\n",
    "print (\"object_name: \"+object_name)\n",
    "print (\"Long_object_description: \"+Long_object_description)\n",
    "print (\"find_functional_unit: \"+ str(find_functional_unit)) \n",
    "\n",
    "#writeAlignmentsFileJSON( alignments2d , outPathFile , filename , pre, loss, meta)\n",
    "print(\"cvn: \"+ str(cvn))\n",
    "\"\"\""
   ]
  },
  {
   "cell_type": "code",
   "execution_count": 27,
   "id": "4ffb4550",
   "metadata": {},
   "outputs": [],
   "source": [
    "#this will decode the web URL given as the 'CVM_graph' variable \n",
    "#it will retrieve it as graphLinks.json, \n",
    "# example data file:\n",
    "#http://www.entropynetwork.com/pub/data/221024/20221024061613.json\n",
    "import urllib.parse\n",
    "\n",
    "def getCVM_graph_from_web(CVM_graph_URL) :\n",
    "    print (CVM_graph_URL)\n",
    "    encodedStr = CVM_graph_URL\n",
    "    URLdecoded = urllib.parse.unquote_plus(encodedStr)\n",
    "    URLdecoded = URLdecoded.split(\"&\")[0]\n",
    "    URLdecoded = URLdecoded.split(\"=\")\n",
    "    domainName = URLdecoded[0].split(\"/\")\n",
    "    newURL = domainName[2] + URLdecoded[1]\n",
    "    #!wget {newURL} -O graphLinks.json\n"
   ]
  },
  {
   "cell_type": "code",
   "execution_count": 28,
   "id": "fb706be5",
   "metadata": {},
   "outputs": [],
   "source": [
    "#print (CVM_graph)\n",
    "#CVM_graph_URL = CVM_graph # from model card\n",
    "#getCVM_graph_from_web(CVM_graph_URL)"
   ]
  },
  {
   "cell_type": "code",
   "execution_count": 29,
   "id": "dc479db5",
   "metadata": {},
   "outputs": [],
   "source": [
    "import os\n",
    "import shutil\n",
    "import json\n",
    "#from path import path\n",
    "import requests\n",
    "import datetime\n",
    "import re\n",
    "import dateutil.tz\n",
    "\n",
    "\n",
    "read_linksJSON = open(\"graphLinks.json\").read()\n",
    "linksJSON = json.loads( read_linksJSON )\n",
    "theLinks= linksJSON[\"links\"] \n",
    "#links_json_dump = json.dumps(linksJSON)\n",
    "\n",
    "#print (  links_json_dump.{\"links\"} )\n",
    "\n",
    "def writeAlignmentsFileJSON( alignments2d , alignmentsOutPathFile , filename , pre, loss, meta):\n",
    "# make a JSON face featureset & graph dataset \n",
    "    x=[]\n",
    "    y=[]\n",
    "    x1=[]\n",
    "    y1=[]\n",
    "    theJSON = {}\n",
    "    \n",
    "    theJSON[\"x\"] = [] \n",
    "    theJSON[\"y\"] = []\n",
    "    \n",
    "    theJSON[\"x1\"] = []\n",
    "    theJSON[\"y1\"] = []\n",
    "    \n",
    "    theJSON[\"meta\"] = []\n",
    "    theJSON[\"nodes\"] = []\n",
    "    theJSON[\"links\"] = theLinks #[]\n",
    "    alignment = [0,0]\n",
    "    # construct an empty array with matching length\n",
    "    b = np.empty((2,), dtype=tuple)\n",
    "    # put values into tuple and store in b\n",
    "    #for i,n in enumerate(alignments2d):\n",
    "    q=0\n",
    "    for i in alignments2d:\n",
    "    # alignment[i] = (n[0]-bb[0],n[1]-bb[1])\n",
    "        #alignment.append(i[0],i[1])\n",
    "        pointN = \"p\" + str(q)\n",
    "        theJSON[\"nodes\"].append({\n",
    "          \"x\": (i[0]),\n",
    "          \"y\": (i[1]),\n",
    "          \"text\": ( pointN )\n",
    "          #\"isAcceptState\": (false)\n",
    "        })\n",
    "        q=q+1\n",
    "        x.append( int( str(i[0]).split(\".\")[0] ))\n",
    "        y.append( int( str(i[1]).split(\".\")[0] ))\n",
    "        x1.append( int( str(i[0]).split(\".\")[1] ))\n",
    "        y1.append( int( str(i[1]).split(\".\")[1] ))\n",
    "        \n",
    "    theJSON[\"meta\"].append({\n",
    "      \"x\": 50,\n",
    "      \"y\": 50,\n",
    "      \"text\": \"L:\" +str(loss),\n",
    "      \"loss\": loss\n",
    "      #\"isAcceptState\": (false)\n",
    "    })\n",
    "    theJSON[\"nodes\"][0][\"text\"] = theJSON[\"nodes\"][0][\"text\"] + \"L:\" +str(loss)\n",
    "    theJSON[\"x\"] = x\n",
    "    theJSON[\"y\"] = y\n",
    "    theJSON[\"x1\"] = x1\n",
    "    theJSON[\"y1\"] = y1\n",
    "    \n",
    "    #theJSON[\"meta\"] = []\n",
    "    #theJSON[\"nodes\"] = []\n",
    "    #theJSON[\"links\"] = []\n",
    "    \n",
    "    # the graph is loaded in the UI instead. it is called 'theGraph' \n",
    "    # it loads from a template at /dp/verifyWork/faceMap/faceGraph.json\n",
    "    #theJSON[\"links\"] = []\n",
    "        \n",
    "    #It can be arbitrary, it is not used by the d3p networks\n",
    "    json_dump = json.dumps(theJSON) #json.dumps({\"nodes\": alignment }, cls=NumpyEncoder)\n",
    "    fj = open(alignmentsOutPathFile, \"w\")\n",
    "    print(json_dump, file=fj)\n",
    "    fj.close()\n",
    "    return alignmentsOutPathFile"
   ]
  },
  {
   "cell_type": "code",
   "execution_count": 30,
   "id": "3ea0c360",
   "metadata": {},
   "outputs": [],
   "source": [
    "# 202303019 Kristin wrote this\n",
    "# for our code the system boundary is from the beginning to the end of the CVM graph.\n",
    "\n",
    "import numpy as np\n",
    "\n",
    "# 20230301921423 jesse changed to use numpy for the array multiplication\n",
    "# >> unit_multiplier*np.array(CVN) \n",
    "\n",
    "#CVN is the data from the CVM model\n",
    "\n",
    "\n",
    "def convert_units(f_u,input_measurement_unit,system_boundary,GPS,unit_multiplier,CVN):\n",
    "    f_u = 0.5\n",
    "    measurement_unit = input_measurement_unit\n",
    "    system_boundary = \"from cradle to grave\"\n",
    "    GPS = [0,0]\n",
    "   # unit_multiplier = 1\n",
    "    output_value = []\n",
    "    output_value = unit_multiplier*np.array(CVN) # old code was: unit_multiplier * CVN\n",
    "    return output_value\n",
    "    "
   ]
  },
  {
   "cell_type": "code",
   "execution_count": 31,
   "id": "b97aa92e",
   "metadata": {},
   "outputs": [
    {
     "data": {
      "text/plain": [
       "array([7.86, 1.29, 2.82])"
      ]
     },
     "execution_count": 31,
     "metadata": {},
     "output_type": "execute_result"
    }
   ],
   "source": [
    "# 202303019 Kristin wrote this\n",
    "#CVN is the data from the CVM model\n",
    "\n",
    "CVN = [2.62,0.43,0.94]\n",
    "unit_multiplier = 3\n",
    "GPS = [0,0]\n",
    "\n",
    "convert_units(0.5,\"litre\",\"system_boundary\", GPS , unit_multiplier, CVN)\n"
   ]
  },
  {
   "cell_type": "markdown",
   "id": "9f68e4e2",
   "metadata": {},
   "source": [
    "\n",
    "## END ##\n"
   ]
  },
  {
   "cell_type": "code",
   "execution_count": null,
   "id": "0ec9ed47",
   "metadata": {},
   "outputs": [],
   "source": [
    "# import csv\n",
    "\n",
    "# def read_cell(x, y):\n",
    "#     with open(myfilepath, 'r') as f:\n",
    "#         reader = csv.reader(f)\n",
    "#         y_count = 0\n",
    "#         for n in reader:\n",
    "#             if y_count == y:\n",
    "#                 cell = n[x]\n",
    "#                 return cell\n",
    "#             y_count += 1\n",
    "\n",
    "# print (read_cell(3, 15)) "
   ]
  },
  {
   "cell_type": "code",
   "execution_count": null,
   "id": "76d8cf18",
   "metadata": {},
   "outputs": [],
   "source": [
    "# import csv\n",
    "\n",
    "# f = open(myfilepath, 'r')\n",
    "# data = list(csv.reader(f))\n",
    "\n",
    "# def read_cell(x, y):\n",
    "#      y_count = 0\n",
    "#      for n in data:\n",
    "#           if y_count == y:\n",
    "#                cell = n[x]\n",
    "#                return cell\n",
    "#           y_count += 1\n",
    "# print (read_cell(3, 15)) \n",
    "# print (read_cell(4, 15)) "
   ]
  },
  {
   "cell_type": "code",
   "execution_count": null,
   "id": "16910f76",
   "metadata": {},
   "outputs": [],
   "source": [
    "# import pandas as pd\n",
    "# data = pd.read_csv(myfilepath)\n",
    "# print(data) \n"
   ]
  },
  {
   "cell_type": "code",
   "execution_count": null,
   "id": "4c8f5ca1",
   "metadata": {},
   "outputs": [],
   "source": []
  },
  {
   "cell_type": "code",
   "execution_count": null,
   "id": "9fc38c3b",
   "metadata": {},
   "outputs": [],
   "source": []
  },
  {
   "cell_type": "code",
   "execution_count": null,
   "id": "e56d02bf",
   "metadata": {},
   "outputs": [],
   "source": []
  }
 ],
 "metadata": {
  "kernelspec": {
   "display_name": "Python 3 (ipykernel)",
   "language": "python",
   "name": "python3"
  },
  "language_info": {
   "codemirror_mode": {
    "name": "ipython",
    "version": 3
   },
   "file_extension": ".py",
   "mimetype": "text/x-python",
   "name": "python",
   "nbconvert_exporter": "python",
   "pygments_lexer": "ipython3",
   "version": "3.8.10"
  }
 },
 "nbformat": 4,
 "nbformat_minor": 5
}
